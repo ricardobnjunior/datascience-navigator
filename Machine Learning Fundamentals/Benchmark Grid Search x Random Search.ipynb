{
 "cells": [
  {
   "cell_type": "code",
   "execution_count": 1,
   "id": "9b1d6399-f153-4080-aeea-78c8b57a292c",
   "metadata": {},
   "outputs": [],
   "source": [
    "from sklearn.model_selection import GridSearchCV, RandomizedSearchCV\n",
    "from sklearn.svm import SVC\n",
    "from sklearn.datasets import load_iris\n",
    "from sklearn.model_selection import train_test_split\n",
    "import numpy as np\n",
    "import time"
   ]
  },
  {
   "cell_type": "markdown",
   "id": "d53ab9d9-19a0-4edb-8bfb-fa5e83e50b71",
   "metadata": {},
   "source": [
    "### For this benchmarking experiment, we will utilize the Iris Dataset"
   ]
  },
  {
   "cell_type": "code",
   "execution_count": 2,
   "id": "1c2a999c-7d8e-4bf9-a618-31224991ad5f",
   "metadata": {},
   "outputs": [],
   "source": [
    "# Load data\n",
    "\n",
    "iris = load_iris()\n",
    "X, y = iris.data, iris.target\n",
    "\n",
    "# Split the data into training and test sets\n",
    "X_train, X_test, y_train, y_test = train_test_split(X, y, test_size=0.3, random_state=42)"
   ]
  },
  {
   "cell_type": "markdown",
   "id": "0c96b65b-5c1c-4d7f-a079-6bb7ab610974",
   "metadata": {},
   "source": [
    "### Model Definition"
   ]
  },
  {
   "cell_type": "code",
   "execution_count": 3,
   "id": "8d76ff8e-f7e7-48a0-be52-90b6c9969888",
   "metadata": {},
   "outputs": [],
   "source": [
    "model = SVC()"
   ]
  },
  {
   "cell_type": "markdown",
   "id": "cd38ac85-bf40-42f1-a211-bb8253765632",
   "metadata": {},
   "source": [
    "### Grid Search Application"
   ]
  },
  {
   "cell_type": "code",
   "execution_count": 4,
   "id": "715d8581-f77d-462c-b8dc-5d89d2c7beb9",
   "metadata": {},
   "outputs": [
    {
     "name": "stdout",
     "output_type": "stream",
     "text": [
      "Best score of Grid Search:  0.9714285714285715\n",
      "Processing time of Grid Search: 0.96 seconds\n"
     ]
    }
   ],
   "source": [
    "# Parameters for Grid Search\n",
    "param_grid = {'C': [0.1, 1, 10, 100], 'gamma': [1, 0.1, 0.01, 0.001], 'kernel': ['rbf', 'poly', 'sigmoid']}\n",
    "\n",
    "# Start the timer for Grid Search\n",
    "start_time = time.time()\n",
    "\n",
    "# Execute Grid Search\n",
    "grid_search = GridSearchCV(model, param_grid, refit=True, verbose=0)\n",
    "grid_search.fit(X_train, y_train)\n",
    "\n",
    "# Calculate the execution time of Grid Search\n",
    "grid_search_time = time.time() - start_time\n",
    "\n",
    "print(\"Best score of Grid Search: \", grid_search.best_score_)\n",
    "print(\"Processing time of Grid Search: {:.2f} seconds\".format(grid_search_time))"
   ]
  },
  {
   "cell_type": "markdown",
   "id": "78a9886b-7adb-410e-920e-71639582df93",
   "metadata": {},
   "source": [
    "### Random Search Application"
   ]
  },
  {
   "cell_type": "code",
   "execution_count": 5,
   "id": "23fb5cf4-e4f5-4682-9b15-4573be2706ce",
   "metadata": {},
   "outputs": [
    {
     "name": "stdout",
     "output_type": "stream",
     "text": [
      "Best score of Random Search:  0.9619047619047618\n",
      "Processing time of Random Search: 0.55 seconds\n"
     ]
    }
   ],
   "source": [
    "# Parameters for Random Search\n",
    "param_distributions = {'C': np.logspace(-2, 2, 100), 'gamma': np.logspace(-3, 1, 100), 'kernel': ['rbf', 'poly', 'sigmoid']}\n",
    "\n",
    "# Start the timer for Random Search\n",
    "start_time = time.time()\n",
    "\n",
    "# Execute Random Search\n",
    "random_search = RandomizedSearchCV(model, param_distributions, n_iter=50, refit=True, verbose=0, random_state=42)\n",
    "random_search.fit(X_train, y_train)\n",
    "\n",
    "# Calculate the execution time of Random Search\n",
    "random_search_time = time.time() - start_time\n",
    "\n",
    "\n",
    "print(\"Best score of Random Search: \", random_search.best_score_)\n",
    "print(\"Processing time of Random Search: {:.2f} seconds\".format(random_search_time))"
   ]
  },
  {
   "cell_type": "markdown",
   "id": "e1e614c9-e4d8-4ebd-b1b7-786a59a644ac",
   "metadata": {},
   "source": [
    "## Results and Discussion\n",
    "\n",
    "The benchmarking experiment results demonstrate key differences between the Grid Search and Random Search algorithms in terms of performance and efficiency.\n",
    "\n",
    "Firstly, the Grid Search algorithm achieved a slightly higher score of 0.9714 compared to the Random Search's 0.96. This difference, in percentage terms, is approximately 1.19%. While this indicates a marginally better performance by the Grid Search in accuracy, the difference is relatively small.\n",
    "\n",
    "However, when considering processing time, the distinction becomes more significant. The Grid Search took 0.96 seconds, whereas the Random Search completed in just 0.55 seconds. This means that Random Search was approximately 42.7% faster than Grid Search. In scenarios where processing speed is crucial, such as in real-time applications, this difference in time efficiency can be highly impactful.\n",
    "\n",
    "While both algorithms performed well, Random Search stands out as the more efficient option in this experiment. Its ability to achieve nearly similar accuracy to Grid Search but in significantly less processing time underlines its suitability for situations where quick decision-making is essential. This advantage can be particularly valuable in real-world applications where computational resources and time are critical factors."
   ]
  },
  {
   "cell_type": "code",
   "execution_count": null,
   "id": "df971c31-1ee7-49d2-9e38-fc079f42ab11",
   "metadata": {},
   "outputs": [],
   "source": []
  },
  {
   "cell_type": "code",
   "execution_count": null,
   "id": "4eea1463-b612-47cd-9783-ea4754cb846d",
   "metadata": {},
   "outputs": [],
   "source": []
  },
  {
   "cell_type": "code",
   "execution_count": null,
   "id": "c6fca845-35b4-4609-bc29-5a4adf6e3b4a",
   "metadata": {},
   "outputs": [],
   "source": []
  },
  {
   "cell_type": "code",
   "execution_count": null,
   "id": "625f0751-1c61-4a21-820c-97c1dc8316de",
   "metadata": {},
   "outputs": [],
   "source": []
  }
 ],
 "metadata": {
  "kernelspec": {
   "display_name": "Python 3 (ipykernel)",
   "language": "python",
   "name": "python3"
  },
  "language_info": {
   "codemirror_mode": {
    "name": "ipython",
    "version": 3
   },
   "file_extension": ".py",
   "mimetype": "text/x-python",
   "name": "python",
   "nbconvert_exporter": "python",
   "pygments_lexer": "ipython3",
   "version": "3.8.0"
  }
 },
 "nbformat": 4,
 "nbformat_minor": 5
}
